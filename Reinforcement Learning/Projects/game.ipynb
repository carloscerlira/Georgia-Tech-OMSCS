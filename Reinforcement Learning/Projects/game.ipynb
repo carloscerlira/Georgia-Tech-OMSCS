{
 "cells": [
  {
   "cell_type": "code",
   "execution_count": 1,
   "metadata": {},
   "outputs": [],
   "source": [
    "import numpy as np \n",
    "import matplotlib.pyplot as plt \n",
    "from PIL import Image \n",
    "import cv2 \n",
    "import pickle \n",
    "import time \n",
    "plt.style.use('seaborn')"
   ]
  },
  {
   "cell_type": "code",
   "execution_count": 6,
   "metadata": {},
   "outputs": [],
   "source": [
    "size = 10\n",
    "hm_episodes = 25000\n",
    "move_penalty = 1 \n",
    "enemy_penalty = 300\n",
    "food_reward = 25 \n",
    "\n",
    "epsilon = 0.9 \n",
    "eps_decay = 0.9998\n",
    "show_every = 3000\n",
    "\n",
    "start_q_table = None\n",
    "\n",
    "learning_rate = 0.1\n",
    "discount = 0.95 \n",
    "player_n = 1\n",
    "food_n = 2\n",
    "\n",
    "d={1:(255,175,0),\n",
    "    2:(0,255,0),\n",
    "    3:(0,0,255)}"
   ]
  },
  {
   "cell_type": "code",
   "execution_count": 9,
   "metadata": {},
   "outputs": [],
   "source": [
    "class Blob:\n",
    "    def __init__(self):\n",
    "        self.x = np.random.randint(0, size)\n",
    "        self.y = np.random.randint(0, size)\n",
    "    \n",
    "    def __str__(self):\n",
    "        return f\"{self.x}, {self.y}\"\n",
    "    \n",
    "    def __sub__(self, other):\n",
    "        return (self.x-other.x, self.y-other.y)\n",
    "\n",
    "    def action(self, action):\n",
    "        if action == 0: \n",
    "            self.x += 1\n",
    "        if action == 1:\n",
    "            self.x -= 1\n",
    "        if action == 2:\n",
    "            self.y += 1\n",
    "        if action == 3:\n",
    "            self.y -= 1\n",
    "        \n",
    "    def move(self, x=False, y=False):\n",
    "        if not x:\n",
    "            self.x += np.random.randint(-1,2)\n",
    "        else:\n",
    "            self.x += x \n",
    "        if not y:\n",
    "            self.y += np.random.randint(-1,2)    "
   ]
  },
  {
   "cell_type": "code",
   "execution_count": 16,
   "metadata": {
    "tags": []
   },
   "outputs": [],
   "source": [
    "blob = Blob()"
   ]
  },
  {
   "cell_type": "code",
   "execution_count": 22,
   "metadata": {
    "tags": []
   },
   "outputs": [
    {
     "output_type": "stream",
     "name": "stdout",
     "text": "3\n"
    }
   ],
   "source": [
    "a = 3\n",
    "print(\"{}\".format(a))"
   ]
  },
  {
   "cell_type": "code",
   "execution_count": null,
   "metadata": {},
   "outputs": [],
   "source": []
  }
 ],
 "metadata": {
  "language_info": {
   "codemirror_mode": {
    "name": "ipython",
    "version": 3
   },
   "file_extension": ".py",
   "mimetype": "text/x-python",
   "name": "python",
   "nbconvert_exporter": "python",
   "pygments_lexer": "ipython3",
   "version": 3
  },
  "orig_nbformat": 2,
  "kernelspec": {
   "name": "python_defaultSpec_1593568529456",
   "display_name": "Python 3.7.4 64-bit ('ProgramData': virtualenv)"
  }
 },
 "nbformat": 4,
 "nbformat_minor": 2
}