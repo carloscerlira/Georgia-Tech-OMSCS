{
 "cells": [
  {
   "cell_type": "code",
   "execution_count": 1,
   "metadata": {},
   "outputs": [],
   "source": [
    "import pandas as pd\n",
    "import numpy as np"
   ]
  },
  {
   "cell_type": "code",
   "execution_count": 2,
   "metadata": {},
   "outputs": [],
   "source": [
    "import gym"
   ]
  },
  {
   "cell_type": "code",
   "execution_count": 23,
   "metadata": {
    "tags": []
   },
   "outputs": [
    {
     "output_type": "stream",
     "name": "stdout",
     "text": "(20, 20, 3)\n"
    }
   ],
   "source": [
    "env = gym.make('MountainCar-v0')\n",
    "env.reset()\n",
    "\n",
    "# print(env.observation_space.high)\n",
    "# print(env.observation_space.low)\n",
    "# print(env.action_space.n)\n",
    "\n",
    "lr = 1/100\n",
    "dr = 0.9\n",
    "episodes = 2000\n",
    "\n",
    "discrete_os_size = [20]*len(env.observation_space.high)\n",
    "discrete_os_win_size = (env.observation_space.high - env.observation_space.low) / discrete_os_size\n",
    "\n",
    "q_table = np.random.uniform(low=-2, high=0, size=(discrete_os_size+[env.action_space.n]))\n",
    "\n",
    "discrete_state = get_discrete_state(env.reset())\n",
    "done = False \n",
    "\n",
    "while not done:\n",
    "    action = np.argmax(q[table])\n",
    "    new_state, reward, done, _ = env.step(action)\n",
    "    new_discrete_state = get_discrete_state(new_state)\n",
    "    env.render()\n",
    "    if not done:\n",
    "        max_future_q = np.max(q_table[new_discrete_state])\n",
    "        current_q = q_table[discrete_state + (action, )]\n",
    "        new_q = current_q + lr*(reward + dr*max_future_q-current_q) \n",
    "    elif:\n",
    "\n",
    "# env.close()"
   ]
  },
  {
   "cell_type": "code",
   "execution_count": 9,
   "metadata": {
    "tags": []
   },
   "outputs": [
    {
     "output_type": "stream",
     "name": "stdout",
     "text": "[0.5 1. ]\n"
    }
   ],
   "source": [
    "a = np.array([1,2])\n",
    "b = [2,2]\n",
    "print(a/b)"
   ]
  },
  {
   "cell_type": "code",
   "execution_count": 13,
   "metadata": {},
   "outputs": [],
   "source": [
    "def get_discrete_state(state):\n",
    "    discrete_state = (state-env.observation_space.low)/discrete_os_win_size \n",
    "    return tuple(discrete_state.astype(int))"
   ]
  },
  {
   "cell_type": "code",
   "execution_count": 19,
   "metadata": {},
   "outputs": [
    {
     "output_type": "execute_result",
     "data": {
      "text/plain": "(1, 2, 3)"
     },
     "metadata": {},
     "execution_count": 19
    }
   ],
   "source": [
    "tuple([1,2,3])"
   ]
  },
  {
   "cell_type": "code",
   "execution_count": 25,
   "metadata": {
    "tags": []
   },
   "outputs": [
    {
     "output_type": "stream",
     "name": "stdout",
     "text": "33330\n"
    }
   ],
   "source": []
  },
  {
   "cell_type": "code",
   "execution_count": null,
   "metadata": {},
   "outputs": [],
   "source": []
  }
 ],
 "metadata": {
  "language_info": {
   "codemirror_mode": {
    "name": "ipython",
    "version": 3
   },
   "file_extension": ".py",
   "mimetype": "text/x-python",
   "name": "python",
   "nbconvert_exporter": "python",
   "pygments_lexer": "ipython3",
   "version": 3
  },
  "orig_nbformat": 2,
  "kernelspec": {
   "name": "python_defaultSpec_1593410654223",
   "display_name": "Python 3.7.4 64-bit ('base': conda)"
  }
 },
 "nbformat": 4,
 "nbformat_minor": 2
}