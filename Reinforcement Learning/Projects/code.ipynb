{
 "cells": [
  {
   "cell_type": "code",
   "execution_count": 1,
   "metadata": {},
   "outputs": [],
   "source": [
    "import pandas as pd\n",
    "import numpy as np\n",
    "import gym"
   ]
  },
  {
   "cell_type": "code",
   "execution_count": 2,
   "metadata": {},
   "outputs": [],
   "source": [
    "def get_discrete_state(state):\n",
    "    discrete_state = (state-env.observation_space.low)/discrete_os_win_size \n",
    "    return tuple(discrete_state.astype(int))"
   ]
  },
  {
   "cell_type": "code",
   "execution_count": 5,
   "metadata": {
    "tags": []
   },
   "outputs": [],
   "source": [
    "env = gym.make('MountainCar-v0')\n",
    "env.reset()\n",
    "\n",
    "# print(env.observation_space.high)\n",
    "# print(env.observation_space.low)\n",
    "# print(env.action_space.n)\n",
    "\n",
    "lr = 0.1\n",
    "dr = 0.95\n",
    "episodes = 2000\n",
    "show_every = 300\n",
    "\n",
    "discrete_os_size = [20]*len(env.observation_space.high)\n",
    "discrete_os_win_size = (env.observation_space.high - env.observation_space.low) / discrete_os_size\n",
    "q_table = np.random.uniform(low=-2, high=0, size=(discrete_os_size+[env.action_space.n]))\n",
    "\n",
    "for episode in range(episodes):\n",
    "    discrete_state = get_discrete_state(env.reset())\n",
    "    done = False \n",
    "    while not done:\n",
    "        action = np.argmax(q_table[discrete_state])\n",
    "        new_state, reward, done, _ = env.step(action)\n",
    "        new_discrete_state = get_discrete_state(new_state)\n",
    "        if episode%show_every == 0:\n",
    "            env.render() \n",
    "        if not done:\n",
    "            max_future_q = np.max(q_table[new_discrete_state])\n",
    "            current_q = q_table[discrete_state + (action, )]\n",
    "            new_q = current_q + lr*(reward + dr*max_future_q-current_q)\n",
    "            q_table[discrete_state + (action, )] = new_q  \n",
    "        elif new_state[0] >= env.goal_position:\n",
    "            q_table[discrete_state + (action, )] = 0\n",
    "        discrete_state = new_discrete_state\n",
    "    env.close()"
   ]
  },
  {
   "cell_type": "code",
   "execution_count": null,
   "metadata": {},
   "outputs": [],
   "source": []
  }
 ],
 "metadata": {
  "language_info": {
   "codemirror_mode": {
    "name": "ipython",
    "version": 3
   },
   "file_extension": ".py",
   "mimetype": "text/x-python",
   "name": "python",
   "nbconvert_exporter": "python",
   "pygments_lexer": "ipython3",
   "version": 3
  },
  "orig_nbformat": 2,
  "kernelspec": {
   "name": "python_defaultSpec_1593463859041",
   "display_name": "Python 3.7.4 64-bit ('base': conda)"
  }
 },
 "nbformat": 4,
 "nbformat_minor": 2
}