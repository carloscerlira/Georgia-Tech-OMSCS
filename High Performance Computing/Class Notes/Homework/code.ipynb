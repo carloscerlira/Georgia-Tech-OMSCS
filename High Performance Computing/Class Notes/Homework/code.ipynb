{
 "cells": [
  {
   "cell_type": "code",
   "execution_count": 34,
   "metadata": {},
   "outputs": [],
   "source": [
    "def reduce(A):\n",
    "    n = len(A)\n",
    "    if n >= 2:\n",
    "        a = reduce(A[0:int(n/2)])\n",
    "        b = reduce(A[int(n/2):])\n",
    "        return a+b\n",
    "    else:\n",
    "        return A[0]"
   ]
  }
 ],
 "metadata": {
  "language_info": {
   "codemirror_mode": {
    "name": "ipython",
    "version": 3
   },
   "file_extension": ".py",
   "mimetype": "text/x-python",
   "name": "python",
   "nbconvert_exporter": "python",
   "pygments_lexer": "ipython3",
   "version": 3
  },
  "orig_nbformat": 2,
  "kernelspec": {
   "name": "python_defaultSpec_1594089654376",
   "display_name": "Python 3.7.4 64-bit ('base': conda)"
  }
 },
 "nbformat": 4,
 "nbformat_minor": 2
}